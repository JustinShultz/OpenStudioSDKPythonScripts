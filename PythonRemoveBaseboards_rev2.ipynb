{
    "cells": [
        {
            "cell_type": "markdown",
            "metadata": {},
            "source": [
                "# Remove Baseboard Heating from All Thermal Zones\n",
                "## Description\n",
                "This python juyter notebook uses the OpenStudio SDK to remove Baseboard heating from each Thermal Zone"
            ]
        },
        {
            "cell_type": "code",
            "execution_count": 2,
            "metadata": {},
            "outputs": [],
            "source": [
                "%matplotlib notebook"
            ]
        },
        {
            "cell_type": "code",
            "execution_count": 3,
            "metadata": {},
            "outputs": [],
            "source": [
                "import os\n",
                "import shutil\n",
                "import sys\n",
                "\n",
                "import openstudio"
            ]
        },
        {
            "cell_type": "code",
            "execution_count": 5,
            "metadata": {},
            "outputs": [
                {
                    "name": "stdout",
                    "output_type": "stream",
                    "text": [
                        "Pip package used initially: openstudio                        3.3.0\n",
                        "OpenStudio Long Version:    3.3.0+b79cf6780c\n"
                    ]
                }
            ],
            "source": [
                "# For reproducibility, here are the versions I used to create and run this notebook\n",
                "_s = !pip list\n",
                "print(f\"Pip package used initially: {[x for x in _s if 'openstudio' in x][0]}\")\n",
                "print(f\"OpenStudio Long Version:    {openstudio.openStudioLongVersion()}\")"
            ]
        },
        {
            "cell_type": "markdown",
            "metadata": {},
            "source": [
                "## Loading the model"
            ]
        },
        {
            "cell_type": "code",
            "execution_count": 25,
            "metadata": {},
            "outputs": [],
            "source": [
                "osmpath = openstudio.toPath('As-Built.osm')\n",
                "\n",
                "m = openstudio.model.Model.load(osmpath).get()\n",
                "# print(m)"
            ]
        },
        {
            "cell_type": "markdown",
            "metadata": {},
            "source": [
                "## Get Thermal Zones"
            ]
        },
        {
            "cell_type": "code",
            "execution_count": 42,
            "metadata": {},
            "outputs": [],
            "source": [
                "zones = m.getThermalZones()\n",
                "# print(zones[0])"
            ]
        },
        {
            "cell_type": "markdown",
            "metadata": {},
            "source": [
                "## Remove Baseboards from Thermal Zones with Baseboard Equipment"
            ]
        },
        {
            "cell_type": "code",
            "execution_count": 79,
            "metadata": {},
            "outputs": [
                {
                    "name": "stdout",
                    "output_type": "stream",
                    "text": [
                        "Removing:Object of type 'OS:ZoneHVAC:Baseboard:Convective:Water' and named 'Zone HVAC Baseboard Convective Water 71'\n",
                        "Removing:Object of type 'OS:ZoneHVAC:Baseboard:Convective:Water' and named 'Zone HVAC Baseboard Convective Water 67'\n",
                        "Removing:Object of type 'OS:ZoneHVAC:Baseboard:Convective:Water' and named 'Zone HVAC Baseboard Convective Water 25'\n",
                        "Removing:Object of type 'OS:ZoneHVAC:Baseboard:Convective:Water' and named 'Zone HVAC Baseboard Convective Water 90'\n",
                        "Removing:Object of type 'OS:ZoneHVAC:Baseboard:Convective:Water' and named 'Zone HVAC Baseboard Convective Water 88'\n",
                        "Removing:Object of type 'OS:ZoneHVAC:Baseboard:Convective:Water' and named 'Zone HVAC Baseboard Convective Water 57'\n",
                        "Removing:Object of type 'OS:ZoneHVAC:Baseboard:Convective:Water' and named 'Zone HVAC Baseboard Convective Water 121'\n",
                        "Removing:Object of type 'OS:ZoneHVAC:Baseboard:Convective:Water' and named 'Zone HVAC Baseboard Convective Water 49'\n",
                        "Removing:Object of type 'OS:ZoneHVAC:Baseboard:Convective:Water' and named 'Zone HVAC Baseboard Convective Water 108'\n",
                        "Removing:Object of type 'OS:ZoneHVAC:Baseboard:Convective:Water' and named 'Zone HVAC Baseboard Convective Water 21'\n",
                        "Removing:Object of type 'OS:ZoneHVAC:Baseboard:Convective:Water' and named 'Zone HVAC Baseboard Convective Water 35'\n",
                        "Removing:Object of type 'OS:ZoneHVAC:Baseboard:Convective:Water' and named 'Zone HVAC Baseboard Convective Water 146'\n",
                        "Removing:Object of type 'OS:ZoneHVAC:Baseboard:Convective:Water' and named 'Zone HVAC Baseboard Convective Water 63'\n",
                        "Removing:Object of type 'OS:ZoneHVAC:Baseboard:Convective:Water' and named 'Zone HVAC Baseboard Convective Water 107'\n",
                        "Removing:Object of type 'OS:ZoneHVAC:Baseboard:Convective:Water' and named 'Zone HVAC Baseboard Convective Water 48'\n",
                        "Removing:Object of type 'OS:ZoneHVAC:Baseboard:Convective:Water' and named 'Zone HVAC Baseboard Convective Water 120'\n",
                        "Removing:Object of type 'OS:ZoneHVAC:Baseboard:Convective:Water' and named 'Zone HVAC Baseboard Convective Water 89'\n",
                        "Removing:Object of type 'OS:ZoneHVAC:Baseboard:Convective:Water' and named 'Zone HVAC Baseboard Convective Water 109'\n",
                        "Removing:Object of type 'OS:ZoneHVAC:Baseboard:Convective:Water' and named 'Zone HVAC Baseboard Convective Water 3'\n",
                        "Removing:Object of type 'OS:ZoneHVAC:Baseboard:Convective:Water' and named 'Zone HVAC Baseboard Convective Water 156'\n",
                        "Removing:Object of type 'OS:ZoneHVAC:Baseboard:Convective:Water' and named 'Zone HVAC Baseboard Convective Water 30'\n",
                        "Removing:Object of type 'OS:ZoneHVAC:Baseboard:Convective:Water' and named 'Zone HVAC Baseboard Convective Water 137'\n",
                        "Removing:Object of type 'OS:ZoneHVAC:Baseboard:Convective:Water' and named 'Zone HVAC Baseboard Convective Water 45'\n",
                        "Removing:Object of type 'OS:ZoneHVAC:Baseboard:Convective:Water' and named 'Zone HVAC Baseboard Convective Water 101'\n",
                        "Removing:Object of type 'OS:ZoneHVAC:Baseboard:Convective:Water' and named 'Zone HVAC Baseboard Convective Water 118'\n",
                        "Removing:Object of type 'OS:ZoneHVAC:Baseboard:Convective:Water' and named 'Zone HVAC Baseboard Convective Water 16'\n",
                        "Removing:Object of type 'OS:ZoneHVAC:Baseboard:Convective:Water' and named 'Zone HVAC Baseboard Convective Water 44'\n",
                        "Removing:Object of type 'OS:ZoneHVAC:Baseboard:Convective:Water' and named 'Zone HVAC Baseboard Convective Water 106'\n"
                    ]
                }
            ],
            "source": [
                "for z in zones: \n",
                "    if z.initialized():\n",
                "        z_equipment = z.equipment()\n",
                "        for z_e in z_equipment:\n",
                "            # print(z_e.briefDescription())\n",
                "            if \"Baseboard\" in z_e.briefDescription():\n",
                "                z_e.remove()\n",
                "                print('Removing: ' + z_e.briefDescription())\n",
                "            # z_e_types = z_e.dataFields\n",
                "            # print(z_e_types)\n",
                "            # for z_e_t in z_e_types:\n",
                "            #     print(z_e_t)"
            ]
        },
        {
            "cell_type": "code",
            "execution_count": null,
            "metadata": {},
            "outputs": [],
            "source": [
                "print_remaining = False\n",
                "\n",
                "if print_remaining:\n",
                "    for z in zones: \n",
                "        if z.initialized():\n",
                "            z_equipment = z.equipment()\n",
                "            for z_e in z_equipment:\n",
                "                print(z_e.briefDescription())"
            ]
        },
        {
            "cell_type": "markdown",
            "metadata": {},
            "source": [
                "## Save new OpenStudio Model"
            ]
        },
        {
            "cell_type": "code",
            "execution_count": 83,
            "metadata": {},
            "outputs": [
                {
                    "data": {
                        "text/plain": [
                            "True"
                        ]
                    },
                    "execution_count": 83,
                    "metadata": {},
                    "output_type": "execute_result"
                }
            ],
            "source": [
                "openstudio.model.Model.save(m, \"As-Built-scripted.osm\", True)"
            ]
        }
    ],
    "metadata": {
        "interpreter": {
            "hash": "ad5864f56b9468bc1f0b6fefcee62edaf7f96ab9f6e9ae38690d443c98662615"
        },
        "kernelspec": {
            "display_name": "Python 3.9.12 64-bit",
            "name": "python3"
        },
        "language_info": {
            "codemirror_mode": {
                "name": "ipython",
                "version": 3
            },
            "file_extension": ".py",
            "mimetype": "text/x-python",
            "name": "python",
            "nbconvert_exporter": "python",
            "pygments_lexer": "ipython3",
            "version": "3.9.12"
        },
        "orig_nbformat": 4
    },
    "nbformat": 4,
    "nbformat_minor": 2
}
