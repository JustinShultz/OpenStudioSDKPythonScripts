{
    "cells": [
        {
            "cell_type": "code",
            "execution_count": 2,
            "source": [
                "%matplotlib notebook"
            ],
            "outputs": [],
            "metadata": {}
        },
        {
            "cell_type": "code",
            "execution_count": 3,
            "source": [
                "import os\r\n",
                "import shutil\r\n",
                "import sys\r\n",
                "import datetime\r\n",
                "\r\n",
                "import matplotlib as mpl\r\n",
                "import matplotlib.pyplot as plt\r\n",
                "import numpy as np\r\n",
                "import pandas as pd"
            ],
            "outputs": [],
            "metadata": {}
        },
        {
            "cell_type": "markdown",
            "source": [
                "# Use OpenStudio to create a Model"
            ],
            "metadata": {}
        },
        {
            "cell_type": "code",
            "execution_count": 4,
            "source": [
                "import openstudio"
            ],
            "outputs": [],
            "metadata": {}
        },
        {
            "cell_type": "code",
            "execution_count": 5,
            "source": [
                "# For reproducibility, here are the versions I used to create and run this notebook\r\n",
                "_s = !pip list\r\n",
                "print(f\"Pip package used initially: {[x for x in _s if 'openstudio' in x][0]}\")\r\n",
                "print(f\"OpenStudio Long Version:    {openstudio.openStudioLongVersion()}\")"
            ],
            "outputs": [
                {
                    "output_type": "stream",
                    "name": "stdout",
                    "text": [
                        "Pip package used initially: openstudio                        3.3.0\n",
                        "OpenStudio Long Version:    3.3.0+b79cf6780c\n"
                    ]
                }
            ],
            "metadata": {}
        },
        {
            "cell_type": "markdown",
            "source": [
                "## Loading the model"
            ],
            "metadata": {}
        },
        {
            "cell_type": "code",
            "execution_count": 25,
            "source": [
                "osmpath = openstudio.toPath('As-Built.osm')\r\n",
                "\r\n",
                "m = openstudio.model.Model.load(osmpath).get()\r\n",
                "# print(m)"
            ],
            "outputs": [],
            "metadata": {}
        },
        {
            "cell_type": "code",
            "execution_count": 42,
            "source": [
                "zones = m.getThermalZones()\r\n",
                "# print(zones[0])"
            ],
            "outputs": [],
            "metadata": {}
        },
        {
            "cell_type": "code",
            "execution_count": 79,
            "source": [
                "for z in zones: \r\n",
                "    if z.initialized():\r\n",
                "        z_equipment = z.equipment()\r\n",
                "        for z_e in z_equipment:\r\n",
                "            # print(z_e.briefDescription())\r\n",
                "            if \"Baseboard\" in z_e.briefDescription():\r\n",
                "                z_e.remove()\r\n",
                "                print('Removing: ' + z_e.briefDescription())\r\n",
                "            # z_e_types = z_e.dataFields\r\n",
                "            # print(z_e_types)\r\n",
                "            # for z_e_t in z_e_types:\r\n",
                "            #     print(z_e_t)"
            ],
            "outputs": [
                {
                    "output_type": "stream",
                    "name": "stdout",
                    "text": [
                        "Removing:Object of type 'OS:ZoneHVAC:Baseboard:Convective:Water' and named 'Zone HVAC Baseboard Convective Water 71'\n",
                        "Removing:Object of type 'OS:ZoneHVAC:Baseboard:Convective:Water' and named 'Zone HVAC Baseboard Convective Water 67'\n",
                        "Removing:Object of type 'OS:ZoneHVAC:Baseboard:Convective:Water' and named 'Zone HVAC Baseboard Convective Water 25'\n",
                        "Removing:Object of type 'OS:ZoneHVAC:Baseboard:Convective:Water' and named 'Zone HVAC Baseboard Convective Water 90'\n",
                        "Removing:Object of type 'OS:ZoneHVAC:Baseboard:Convective:Water' and named 'Zone HVAC Baseboard Convective Water 88'\n",
                        "Removing:Object of type 'OS:ZoneHVAC:Baseboard:Convective:Water' and named 'Zone HVAC Baseboard Convective Water 57'\n",
                        "Removing:Object of type 'OS:ZoneHVAC:Baseboard:Convective:Water' and named 'Zone HVAC Baseboard Convective Water 121'\n",
                        "Removing:Object of type 'OS:ZoneHVAC:Baseboard:Convective:Water' and named 'Zone HVAC Baseboard Convective Water 49'\n",
                        "Removing:Object of type 'OS:ZoneHVAC:Baseboard:Convective:Water' and named 'Zone HVAC Baseboard Convective Water 108'\n",
                        "Removing:Object of type 'OS:ZoneHVAC:Baseboard:Convective:Water' and named 'Zone HVAC Baseboard Convective Water 21'\n",
                        "Removing:Object of type 'OS:ZoneHVAC:Baseboard:Convective:Water' and named 'Zone HVAC Baseboard Convective Water 35'\n",
                        "Removing:Object of type 'OS:ZoneHVAC:Baseboard:Convective:Water' and named 'Zone HVAC Baseboard Convective Water 146'\n",
                        "Removing:Object of type 'OS:ZoneHVAC:Baseboard:Convective:Water' and named 'Zone HVAC Baseboard Convective Water 63'\n",
                        "Removing:Object of type 'OS:ZoneHVAC:Baseboard:Convective:Water' and named 'Zone HVAC Baseboard Convective Water 107'\n",
                        "Removing:Object of type 'OS:ZoneHVAC:Baseboard:Convective:Water' and named 'Zone HVAC Baseboard Convective Water 48'\n",
                        "Removing:Object of type 'OS:ZoneHVAC:Baseboard:Convective:Water' and named 'Zone HVAC Baseboard Convective Water 120'\n",
                        "Removing:Object of type 'OS:ZoneHVAC:Baseboard:Convective:Water' and named 'Zone HVAC Baseboard Convective Water 89'\n",
                        "Removing:Object of type 'OS:ZoneHVAC:Baseboard:Convective:Water' and named 'Zone HVAC Baseboard Convective Water 109'\n",
                        "Removing:Object of type 'OS:ZoneHVAC:Baseboard:Convective:Water' and named 'Zone HVAC Baseboard Convective Water 3'\n",
                        "Removing:Object of type 'OS:ZoneHVAC:Baseboard:Convective:Water' and named 'Zone HVAC Baseboard Convective Water 156'\n",
                        "Removing:Object of type 'OS:ZoneHVAC:Baseboard:Convective:Water' and named 'Zone HVAC Baseboard Convective Water 30'\n",
                        "Removing:Object of type 'OS:ZoneHVAC:Baseboard:Convective:Water' and named 'Zone HVAC Baseboard Convective Water 137'\n",
                        "Removing:Object of type 'OS:ZoneHVAC:Baseboard:Convective:Water' and named 'Zone HVAC Baseboard Convective Water 45'\n",
                        "Removing:Object of type 'OS:ZoneHVAC:Baseboard:Convective:Water' and named 'Zone HVAC Baseboard Convective Water 101'\n",
                        "Removing:Object of type 'OS:ZoneHVAC:Baseboard:Convective:Water' and named 'Zone HVAC Baseboard Convective Water 118'\n",
                        "Removing:Object of type 'OS:ZoneHVAC:Baseboard:Convective:Water' and named 'Zone HVAC Baseboard Convective Water 16'\n",
                        "Removing:Object of type 'OS:ZoneHVAC:Baseboard:Convective:Water' and named 'Zone HVAC Baseboard Convective Water 44'\n",
                        "Removing:Object of type 'OS:ZoneHVAC:Baseboard:Convective:Water' and named 'Zone HVAC Baseboard Convective Water 106'\n"
                    ]
                }
            ],
            "metadata": {}
        },
        {
            "cell_type": "code",
            "execution_count": null,
            "source": [
                "print_remaining = False\r\n",
                "\r\n",
                "if print_remaining:\r\n",
                "    for z in zones: \r\n",
                "        if z.initialized():\r\n",
                "            z_equipment = z.equipment()\r\n",
                "            for z_e in z_equipment:\r\n",
                "                print(z_e.briefDescription())"
            ],
            "outputs": [],
            "metadata": {}
        },
        {
            "cell_type": "code",
            "execution_count": 83,
            "source": [
                "openstudio.model.Model.save(m, \"As-Built-scripted.osm\", True)"
            ],
            "outputs": [
                {
                    "output_type": "execute_result",
                    "data": {
                        "text/plain": [
                            "True"
                        ]
                    },
                    "metadata": {},
                    "execution_count": 83
                }
            ],
            "metadata": {}
        }
    ],
    "metadata": {
        "orig_nbformat": 4,
        "language_info": {
            "name": "python",
            "version": "3.9.12",
            "mimetype": "text/x-python",
            "codemirror_mode": {
                "name": "ipython",
                "version": 3
            },
            "pygments_lexer": "ipython3",
            "nbconvert_exporter": "python",
            "file_extension": ".py"
        },
        "kernelspec": {
            "name": "python3",
            "display_name": "Python 3.9.12 64-bit"
        },
        "interpreter": {
            "hash": "ad5864f56b9468bc1f0b6fefcee62edaf7f96ab9f6e9ae38690d443c98662615"
        }
    },
    "nbformat": 4,
    "nbformat_minor": 2
}
