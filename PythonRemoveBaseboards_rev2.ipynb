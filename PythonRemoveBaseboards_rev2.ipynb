{
    "cells": [
        {
            "cell_type": "code",
            "execution_count": 2,
            "source": [
                "%matplotlib notebook"
            ],
            "outputs": [],
            "metadata": {}
        },
        {
            "cell_type": "code",
            "execution_count": 3,
            "source": [
                "import os\r\n",
                "import shutil\r\n",
                "import sys\r\n",
                "import datetime\r\n",
                "\r\n",
                "import matplotlib as mpl\r\n",
                "import matplotlib.pyplot as plt\r\n",
                "import numpy as np\r\n",
                "import pandas as pd"
            ],
            "outputs": [],
            "metadata": {}
        },
        {
            "cell_type": "markdown",
            "source": [
                "# Use OpenStudio to create a Model"
            ],
            "metadata": {}
        },
        {
            "cell_type": "code",
            "execution_count": 4,
            "source": [
                "import openstudio"
            ],
            "outputs": [],
            "metadata": {}
        },
        {
            "cell_type": "code",
            "execution_count": 5,
            "source": [
                "# For reproducibility, here are the versions I used to create and run this notebook\r\n",
                "_s = !pip list\r\n",
                "print(f\"Pip package used initially: {[x for x in _s if 'openstudio' in x][0]}\")\r\n",
                "print(f\"OpenStudio Long Version:    {openstudio.openStudioLongVersion()}\")"
            ],
            "outputs": [
                {
                    "output_type": "stream",
                    "name": "stdout",
                    "text": [
                        "Pip package used initially: openstudio                        3.3.0\n",
                        "OpenStudio Long Version:    3.3.0+b79cf6780c\n"
                    ]
                }
            ],
            "metadata": {}
        },
        {
            "cell_type": "markdown",
            "source": [
                "## Loading the model"
            ],
            "metadata": {}
        },
        {
            "cell_type": "code",
            "execution_count": 25,
            "source": [
                "osmpath = openstudio.toPath('As-Built.osm')\r\n",
                "\r\n",
                "m = openstudio.model.Model.load(osmpath).get()\r\n",
                "# print(m)"
            ],
            "outputs": [],
            "metadata": {}
        },
        {
            "cell_type": "code",
            "execution_count": 42,
            "source": [
                "zones = m.getThermalZones()\r\n",
                "# print(zones[0])"
            ],
            "outputs": [],
            "metadata": {}
        },
        {
            "cell_type": "code",
            "execution_count": 79,
            "source": [
                "for z in zones: \r\n",
                "    if z.initialized():\r\n",
                "        z_equipment = z.equipment()\r\n",
                "        for z_e in z_equipment:\r\n",
                "            # print(z_e.briefDescription())\r\n",
                "            if \"Baseboard\" in z_e.briefDescription():\r\n",
                "                z_e.remove()\r\n",
                "                print('Removing: ' + z_e.briefDescription())\r\n",
                "            # z_e_types = z_e.dataFields\r\n",
                "            # print(z_e_types)\r\n",
                "            # for z_e_t in z_e_types:\r\n",
                "            #     print(z_e_t)"
            ],
            "outputs": [
                {
                    "output_type": "stream",
                    "name": "stdout",
                    "text": [
                        "Removing:Object of type 'OS:ZoneHVAC:Baseboard:Convective:Water' and named 'Zone HVAC Baseboard Convective Water 71'\n",
                        "Removing:Object of type 'OS:ZoneHVAC:Baseboard:Convective:Water' and named 'Zone HVAC Baseboard Convective Water 67'\n",
                        "Removing:Object of type 'OS:ZoneHVAC:Baseboard:Convective:Water' and named 'Zone HVAC Baseboard Convective Water 25'\n",
                        "Removing:Object of type 'OS:ZoneHVAC:Baseboard:Convective:Water' and named 'Zone HVAC Baseboard Convective Water 90'\n",
                        "Removing:Object of type 'OS:ZoneHVAC:Baseboard:Convective:Water' and named 'Zone HVAC Baseboard Convective Water 88'\n",
                        "Removing:Object of type 'OS:ZoneHVAC:Baseboard:Convective:Water' and named 'Zone HVAC Baseboard Convective Water 57'\n",
                        "Removing:Object of type 'OS:ZoneHVAC:Baseboard:Convective:Water' and named 'Zone HVAC Baseboard Convective Water 121'\n",
                        "Removing:Object of type 'OS:ZoneHVAC:Baseboard:Convective:Water' and named 'Zone HVAC Baseboard Convective Water 49'\n",
                        "Removing:Object of type 'OS:ZoneHVAC:Baseboard:Convective:Water' and named 'Zone HVAC Baseboard Convective Water 108'\n",
                        "Removing:Object of type 'OS:ZoneHVAC:Baseboard:Convective:Water' and named 'Zone HVAC Baseboard Convective Water 21'\n",
                        "Removing:Object of type 'OS:ZoneHVAC:Baseboard:Convective:Water' and named 'Zone HVAC Baseboard Convective Water 35'\n",
                        "Removing:Object of type 'OS:ZoneHVAC:Baseboard:Convective:Water' and named 'Zone HVAC Baseboard Convective Water 146'\n",
                        "Removing:Object of type 'OS:ZoneHVAC:Baseboard:Convective:Water' and named 'Zone HVAC Baseboard Convective Water 63'\n",
                        "Removing:Object of type 'OS:ZoneHVAC:Baseboard:Convective:Water' and named 'Zone HVAC Baseboard Convective Water 107'\n",
                        "Removing:Object of type 'OS:ZoneHVAC:Baseboard:Convective:Water' and named 'Zone HVAC Baseboard Convective Water 48'\n",
                        "Removing:Object of type 'OS:ZoneHVAC:Baseboard:Convective:Water' and named 'Zone HVAC Baseboard Convective Water 120'\n",
                        "Removing:Object of type 'OS:ZoneHVAC:Baseboard:Convective:Water' and named 'Zone HVAC Baseboard Convective Water 89'\n",
                        "Removing:Object of type 'OS:ZoneHVAC:Baseboard:Convective:Water' and named 'Zone HVAC Baseboard Convective Water 109'\n",
                        "Removing:Object of type 'OS:ZoneHVAC:Baseboard:Convective:Water' and named 'Zone HVAC Baseboard Convective Water 3'\n",
                        "Removing:Object of type 'OS:ZoneHVAC:Baseboard:Convective:Water' and named 'Zone HVAC Baseboard Convective Water 156'\n",
                        "Removing:Object of type 'OS:ZoneHVAC:Baseboard:Convective:Water' and named 'Zone HVAC Baseboard Convective Water 30'\n",
                        "Removing:Object of type 'OS:ZoneHVAC:Baseboard:Convective:Water' and named 'Zone HVAC Baseboard Convective Water 137'\n",
                        "Removing:Object of type 'OS:ZoneHVAC:Baseboard:Convective:Water' and named 'Zone HVAC Baseboard Convective Water 45'\n",
                        "Removing:Object of type 'OS:ZoneHVAC:Baseboard:Convective:Water' and named 'Zone HVAC Baseboard Convective Water 101'\n",
                        "Removing:Object of type 'OS:ZoneHVAC:Baseboard:Convective:Water' and named 'Zone HVAC Baseboard Convective Water 118'\n",
                        "Removing:Object of type 'OS:ZoneHVAC:Baseboard:Convective:Water' and named 'Zone HVAC Baseboard Convective Water 16'\n",
                        "Removing:Object of type 'OS:ZoneHVAC:Baseboard:Convective:Water' and named 'Zone HVAC Baseboard Convective Water 44'\n",
                        "Removing:Object of type 'OS:ZoneHVAC:Baseboard:Convective:Water' and named 'Zone HVAC Baseboard Convective Water 106'\n",
                        "Removing:Object of type 'OS:ZoneHVAC:Baseboard:Convective:Water' and named 'Zone HVAC Baseboard Convective Water 110'\n",
                        "Removing:Object of type 'OS:ZoneHVAC:Baseboard:Convective:Water' and named 'Zone HVAC Baseboard Convective Water 111'\n",
                        "Removing:Object of type 'OS:ZoneHVAC:Baseboard:Convective:Water' and named 'Zone HVAC Baseboard Convective Water 167'\n",
                        "Removing:Object of type 'OS:ZoneHVAC:Baseboard:Convective:Water' and named 'Zone HVAC Baseboard Convective Water 10'\n",
                        "Removing:Object of type 'OS:ZoneHVAC:Baseboard:Convective:Water' and named 'Zone HVAC Baseboard Convective Water 148'\n",
                        "Removing:Object of type 'OS:ZoneHVAC:Baseboard:Convective:Water' and named 'Zone HVAC Baseboard Convective Water 18'\n",
                        "Removing:Object of type 'OS:ZoneHVAC:Baseboard:Convective:Water' and named 'Zone HVAC Baseboard Convective Water 62'\n",
                        "Removing:Object of type 'OS:ZoneHVAC:Baseboard:Convective:Water' and named 'Zone HVAC Baseboard Convective Water 166'\n",
                        "Removing:Object of type 'OS:ZoneHVAC:Baseboard:Convective:Water' and named 'Zone HVAC Baseboard Convective Water 132'\n",
                        "Removing:Object of type 'OS:ZoneHVAC:Baseboard:Convective:Water' and named 'Zone HVAC Baseboard Convective Water 33'\n",
                        "Removing:Object of type 'OS:ZoneHVAC:Baseboard:Convective:Water' and named 'Zone HVAC Baseboard Convective Water 34'\n",
                        "Removing:Object of type 'OS:ZoneHVAC:Baseboard:Convective:Water' and named 'Zone HVAC Baseboard Convective Water 134'\n",
                        "Removing:Object of type 'OS:ZoneHVAC:Baseboard:Convective:Water' and named 'Zone HVAC Baseboard Convective Water 165'\n",
                        "Removing:Object of type 'OS:ZoneHVAC:Baseboard:Convective:Water' and named 'Zone HVAC Baseboard Convective Water 6'\n",
                        "Removing:Object of type 'OS:ZoneHVAC:Baseboard:Convective:Water' and named 'Zone HVAC Baseboard Convective Water 115'\n",
                        "Removing:Object of type 'OS:ZoneHVAC:Baseboard:Convective:Water' and named 'Zone HVAC Baseboard Convective Water 8'\n",
                        "Removing:Object of type 'OS:ZoneHVAC:Baseboard:Convective:Water' and named 'Zone HVAC Baseboard Convective Water 23'\n",
                        "Removing:Object of type 'OS:ZoneHVAC:Baseboard:Convective:Water' and named 'Zone HVAC Baseboard Convective Water 114'\n",
                        "Removing:Object of type 'OS:ZoneHVAC:Baseboard:Convective:Water' and named 'Zone HVAC Baseboard Convective Water 119'\n",
                        "Removing:Object of type 'OS:ZoneHVAC:Baseboard:Convective:Water' and named 'Zone HVAC Baseboard Convective Water 127'\n",
                        "Removing:Object of type 'OS:ZoneHVAC:Baseboard:Convective:Water' and named 'Zone HVAC Baseboard Convective Water 116'\n",
                        "Removing:Object of type 'OS:ZoneHVAC:Baseboard:Convective:Water' and named 'Zone HVAC Baseboard Convective Water 117'\n",
                        "Removing:Object of type 'OS:ZoneHVAC:Baseboard:Convective:Water' and named 'Zone HVAC Baseboard Convective Water 2'\n",
                        "Removing:Object of type 'OS:ZoneHVAC:Baseboard:Convective:Water' and named 'Zone HVAC Baseboard Convective Water 51'\n",
                        "Removing:Object of type 'OS:ZoneHVAC:Baseboard:Convective:Water' and named 'Zone HVAC Baseboard Convective Water 112'\n",
                        "Removing:Object of type 'OS:ZoneHVAC:Baseboard:Convective:Water' and named 'Zone HVAC Baseboard Convective Water 113'\n",
                        "Removing:Object of type 'OS:ZoneHVAC:Baseboard:Convective:Water' and named 'Zone HVAC Baseboard Convective Water 65'\n",
                        "Removing:Object of type 'OS:ZoneHVAC:Baseboard:Convective:Water' and named 'Zone HVAC Baseboard Convective Water 7'\n",
                        "Removing:Object of type 'OS:ZoneHVAC:Baseboard:Convective:Water' and named 'Zone HVAC Baseboard Convective Water 61'\n",
                        "Removing:Object of type 'OS:ZoneHVAC:Baseboard:Convective:Water' and named 'Zone HVAC Baseboard Convective Water 80'\n",
                        "Removing:Object of type 'OS:ZoneHVAC:Baseboard:Convective:Water' and named 'Zone HVAC Baseboard Convective Water 163'\n",
                        "Removing:Object of type 'OS:ZoneHVAC:Baseboard:Convective:Water' and named 'Zone HVAC Baseboard Convective Water 123'\n",
                        "Removing:Object of type 'OS:ZoneHVAC:Baseboard:Convective:Water' and named 'Zone HVAC Baseboard Convective Water 76'\n",
                        "Removing:Object of type 'OS:ZoneHVAC:Baseboard:Convective:Water' and named 'Zone HVAC Baseboard Convective Water 69'\n",
                        "Removing:Object of type 'OS:ZoneHVAC:Baseboard:Convective:Water' and named 'Zone HVAC Baseboard Convective Water 60'\n",
                        "Removing:Object of type 'OS:ZoneHVAC:Baseboard:Convective:Water' and named 'Zone HVAC Baseboard Convective Water 129'\n",
                        "Removing:Object of type 'OS:ZoneHVAC:Baseboard:Convective:Water' and named 'Zone HVAC Baseboard Convective Water 29'\n",
                        "Removing:Object of type 'OS:ZoneHVAC:Baseboard:Convective:Water' and named 'Zone HVAC Baseboard Convective Water 98'\n",
                        "Removing:Object of type 'OS:ZoneHVAC:Baseboard:Convective:Water' and named 'Zone HVAC Baseboard Convective Water 47'\n",
                        "Removing:Object of type 'OS:ZoneHVAC:Baseboard:Convective:Water' and named 'Zone HVAC Baseboard Convective Water 97'\n",
                        "Removing:Object of type 'OS:ZoneHVAC:Baseboard:Convective:Water' and named 'Zone HVAC Baseboard Convective Water 9'\n",
                        "Removing:Object of type 'OS:ZoneHVAC:Baseboard:Convective:Water' and named 'Zone HVAC Baseboard Convective Water 72'\n",
                        "Removing:Object of type 'OS:ZoneHVAC:Baseboard:Convective:Water' and named 'Zone HVAC Baseboard Convective Water 128'\n",
                        "Removing:Object of type 'OS:ZoneHVAC:Baseboard:Convective:Water' and named 'Zone HVAC Baseboard Convective Water 126'\n",
                        "Removing:Object of type 'OS:ZoneHVAC:Baseboard:Convective:Water' and named 'Zone HVAC Baseboard Convective Water 46'\n",
                        "Removing:Object of type 'OS:ZoneHVAC:Baseboard:Convective:Water' and named 'Zone HVAC Baseboard Convective Water 122'\n",
                        "Removing:Object of type 'OS:ZoneHVAC:Baseboard:Convective:Water' and named 'Zone HVAC Baseboard Convective Water 83'\n",
                        "Removing:Object of type 'OS:ZoneHVAC:Baseboard:Convective:Water' and named 'Zone HVAC Baseboard Convective Water 58'\n",
                        "Removing:Object of type 'OS:ZoneHVAC:Baseboard:Convective:Water' and named 'Zone HVAC Baseboard Convective Water 131'\n",
                        "Removing:Object of type 'OS:ZoneHVAC:Baseboard:Convective:Water' and named 'Zone HVAC Baseboard Convective Water 12'\n",
                        "Removing:Object of type 'OS:ZoneHVAC:Baseboard:Convective:Water' and named 'Zone HVAC Baseboard Convective Water 11'\n",
                        "Removing:Object of type 'OS:ZoneHVAC:Baseboard:Convective:Water' and named 'Zone HVAC Baseboard Convective Water 22'\n",
                        "Removing:Object of type 'OS:ZoneHVAC:Baseboard:Convective:Water' and named 'Zone HVAC Baseboard Convective Water 125'\n",
                        "Removing:Object of type 'OS:ZoneHVAC:Baseboard:Convective:Water' and named 'Zone HVAC Baseboard Convective Water 93'\n",
                        "Removing:Object of type 'OS:ZoneHVAC:Baseboard:Convective:Water' and named 'Zone HVAC Baseboard Convective Water 124'\n",
                        "Removing:Object of type 'OS:ZoneHVAC:Baseboard:Convective:Water' and named 'Zone HVAC Baseboard Convective Water 133'\n",
                        "Removing:Object of type 'OS:ZoneHVAC:Baseboard:Convective:Water' and named 'Zone HVAC Baseboard Convective Water 130'\n",
                        "Removing:Object of type 'OS:ZoneHVAC:Baseboard:Convective:Water' and named 'Zone HVAC Baseboard Convective Water 4'\n",
                        "Removing:Object of type 'OS:ZoneHVAC:Baseboard:Convective:Water' and named 'Zone HVAC Baseboard Convective Water 53'\n",
                        "Removing:Object of type 'OS:ZoneHVAC:Baseboard:Convective:Water' and named 'Zone HVAC Baseboard Convective Water 160'\n",
                        "Removing:Object of type 'OS:ZoneHVAC:Baseboard:Convective:Water' and named 'Zone HVAC Baseboard Convective Water 91'\n",
                        "Removing:Object of type 'OS:ZoneHVAC:Baseboard:Convective:Water' and named 'Zone HVAC Baseboard Convective Water 39'\n",
                        "Removing:Object of type 'OS:ZoneHVAC:Baseboard:Convective:Water' and named 'Zone HVAC Baseboard Convective Water 82'\n",
                        "Removing:Object of type 'OS:ZoneHVAC:Baseboard:Convective:Water' and named 'Zone HVAC Baseboard Convective Water 43'\n",
                        "Removing:Object of type 'OS:ZoneHVAC:Baseboard:Convective:Water' and named 'Zone HVAC Baseboard Convective Water 42'\n",
                        "Removing:Object of type 'OS:ZoneHVAC:Baseboard:Convective:Water' and named 'Zone HVAC Baseboard Convective Water 164'\n",
                        "Removing:Object of type 'OS:ZoneHVAC:Baseboard:Convective:Water' and named 'Zone HVAC Baseboard Convective Water 24'\n",
                        "Removing:Object of type 'OS:ZoneHVAC:Baseboard:Convective:Water' and named 'Zone HVAC Baseboard Convective Water 104'\n",
                        "Removing:Object of type 'OS:ZoneHVAC:Baseboard:Convective:Water' and named 'Zone HVAC Baseboard Convective Water 77'\n",
                        "Removing:Object of type 'OS:ZoneHVAC:Baseboard:Convective:Water' and named 'Zone HVAC Baseboard Convective Water 145'\n",
                        "Removing:Object of type 'OS:ZoneHVAC:Baseboard:Convective:Water' and named 'Zone HVAC Baseboard Convective Water 66'\n",
                        "Removing:Object of type 'OS:ZoneHVAC:Baseboard:Convective:Water' and named 'Zone HVAC Baseboard Convective Water 5'\n",
                        "Removing:Object of type 'OS:ZoneHVAC:Baseboard:Convective:Water' and named 'Zone HVAC Baseboard Convective Water 52'\n",
                        "Removing:Object of type 'OS:ZoneHVAC:Baseboard:Convective:Water' and named 'Zone HVAC Baseboard Convective Water 151'\n",
                        "Removing:Object of type 'OS:ZoneHVAC:Baseboard:Convective:Water' and named 'Zone HVAC Baseboard Convective Water 159'\n",
                        "Removing:Object of type 'OS:ZoneHVAC:Baseboard:Convective:Water' and named 'Zone HVAC Baseboard Convective Water 38'\n",
                        "Removing:Object of type 'OS:ZoneHVAC:Baseboard:Convective:Water' and named 'Zone HVAC Baseboard Convective Water 102'\n",
                        "Removing:Object of type 'OS:ZoneHVAC:Baseboard:Convective:Water' and named 'Zone HVAC Baseboard Convective Water 81'\n",
                        "Removing:Object of type 'OS:ZoneHVAC:Baseboard:Convective:Water' and named 'Zone HVAC Baseboard Convective Water 158'\n",
                        "Removing:Object of type 'OS:ZoneHVAC:Baseboard:Convective:Water' and named 'Zone HVAC Baseboard Convective Water 37'\n",
                        "Removing:Object of type 'OS:ZoneHVAC:Baseboard:Convective:Water' and named 'Zone HVAC Baseboard Convective Water 20'\n",
                        "Removing:Object of type 'OS:ZoneHVAC:Baseboard:Convective:Water' and named 'Zone HVAC Baseboard Convective Water 100'\n",
                        "Removing:Object of type 'OS:ZoneHVAC:Baseboard:Convective:Water' and named 'Zone HVAC Baseboard Convective Water 75'\n",
                        "Removing:Object of type 'OS:ZoneHVAC:Baseboard:Convective:Water' and named 'Zone HVAC Baseboard Convective Water 64'\n",
                        "Removing:Object of type 'OS:ZoneHVAC:Baseboard:Convective:Water' and named 'Zone HVAC Baseboard Convective Water 36'\n",
                        "Removing:Object of type 'OS:ZoneHVAC:Baseboard:Convective:Water' and named 'Zone HVAC Baseboard Convective Water 19'\n",
                        "Removing:Object of type 'OS:ZoneHVAC:Baseboard:Convective:Water' and named 'Zone HVAC Baseboard Convective Water 99'\n",
                        "Removing:Object of type 'OS:ZoneHVAC:Baseboard:Convective:Water' and named 'Zone HVAC Baseboard Convective Water 95'\n",
                        "Removing:Object of type 'OS:ZoneHVAC:Baseboard:Convective:Water' and named 'Zone HVAC Baseboard Convective Water 17'\n",
                        "Removing:Object of type 'OS:ZoneHVAC:Baseboard:Convective:Water' and named 'Zone HVAC Baseboard Convective Water 74'\n",
                        "Removing:Object of type 'OS:ZoneHVAC:Baseboard:Convective:Water' and named 'Zone HVAC Baseboard Convective Water 28'\n",
                        "Removing:Object of type 'OS:ZoneHVAC:Baseboard:Convective:Water' and named 'Zone HVAC Baseboard Convective Water 50'\n",
                        "Removing:Object of type 'OS:ZoneHVAC:Baseboard:Convective:Water' and named 'Zone HVAC Baseboard Convective Water 96'\n",
                        "Removing:Object of type 'OS:ZoneHVAC:Baseboard:Convective:Water' and named 'Zone HVAC Baseboard Convective Water 141'\n",
                        "Removing:Object of type 'OS:ZoneHVAC:Baseboard:Convective:Water' and named 'Zone HVAC Baseboard Convective Water 56'\n",
                        "Removing:Object of type 'OS:ZoneHVAC:Baseboard:Convective:Water' and named 'Zone HVAC Baseboard Convective Water 73'\n",
                        "Removing:Object of type 'OS:ZoneHVAC:Baseboard:Convective:Water' and named 'Zone HVAC Baseboard Convective Water 78'\n",
                        "Removing:Object of type 'OS:ZoneHVAC:Baseboard:Convective:Water' and named 'Zone HVAC Baseboard Convective Water 105'\n",
                        "Removing:Object of type 'OS:ZoneHVAC:Baseboard:Convective:Water' and named 'Zone HVAC Baseboard Convective Water 31'\n",
                        "Removing:Object of type 'OS:ZoneHVAC:Baseboard:Convective:Water' and named 'Zone HVAC Baseboard Convective Water 40'\n",
                        "Removing:Object of type 'OS:ZoneHVAC:Baseboard:Convective:Water' and named 'Zone HVAC Baseboard Convective Water 161'\n",
                        "Removing:Object of type 'OS:ZoneHVAC:Baseboard:Convective:Water' and named 'Zone HVAC Baseboard Convective Water 54'\n",
                        "Removing:Object of type 'OS:ZoneHVAC:Baseboard:Convective:Water' and named 'Zone HVAC Baseboard Convective Water 150'\n",
                        "Removing:Object of type 'OS:ZoneHVAC:Baseboard:Convective:Water' and named 'Zone HVAC Baseboard Convective Water 13'\n",
                        "Removing:Object of type 'OS:ZoneHVAC:Baseboard:Convective:Water' and named 'Zone HVAC Baseboard Convective Water 59'\n",
                        "Removing:Object of type 'OS:ZoneHVAC:Baseboard:Convective:Water' and named 'Zone HVAC Baseboard Convective Water 149'\n",
                        "Removing:Object of type 'OS:ZoneHVAC:Baseboard:Convective:Water' and named 'Zone HVAC Baseboard Convective Water 136'\n",
                        "Removing:Object of type 'OS:ZoneHVAC:Baseboard:Convective:Water' and named 'Zone HVAC Baseboard Convective Water 84'\n",
                        "Removing:Object of type 'OS:ZoneHVAC:Baseboard:Convective:Water' and named 'Zone HVAC Baseboard Convective Water 144'\n",
                        "Removing:Object of type 'OS:ZoneHVAC:Baseboard:Convective:Water' and named 'Zone HVAC Baseboard Convective Water 147'\n",
                        "Removing:Object of type 'OS:ZoneHVAC:Baseboard:Convective:Water' and named 'Zone HVAC Baseboard Convective Water 27'\n",
                        "Removing:Object of type 'OS:ZoneHVAC:Baseboard:Convective:Water' and named 'Zone HVAC Baseboard Convective Water 143'\n",
                        "Removing:Object of type 'OS:ZoneHVAC:Baseboard:Convective:Water' and named 'Zone HVAC Baseboard Convective Water 140'\n",
                        "Removing:Object of type 'OS:ZoneHVAC:Baseboard:Convective:Water' and named 'Zone HVAC Baseboard Convective Water 139'\n",
                        "Removing:Object of type 'OS:ZoneHVAC:Baseboard:Convective:Water' and named 'Zone HVAC Baseboard Convective Water 68'\n",
                        "Removing:Object of type 'OS:ZoneHVAC:Baseboard:Convective:Water' and named 'Zone HVAC Baseboard Convective Water 79'\n",
                        "Removing:Object of type 'OS:ZoneHVAC:Baseboard:Convective:Water' and named 'Zone HVAC Baseboard Convective Water 103'\n",
                        "Removing:Object of type 'OS:ZoneHVAC:Baseboard:Convective:Water' and named 'Zone HVAC Baseboard Convective Water 32'\n",
                        "Removing:Object of type 'OS:ZoneHVAC:Baseboard:Convective:Water' and named 'Zone HVAC Baseboard Convective Water 41'\n",
                        "Removing:Object of type 'OS:ZoneHVAC:Baseboard:Convective:Water' and named 'Zone HVAC Baseboard Convective Water 162'\n",
                        "Removing:Object of type 'OS:ZoneHVAC:Baseboard:Convective:Water' and named 'Zone HVAC Baseboard Convective Water 55'\n",
                        "Removing:Object of type 'OS:ZoneHVAC:Baseboard:Convective:Water' and named 'Zone HVAC Baseboard Convective Water 157'\n",
                        "Removing:Object of type 'OS:ZoneHVAC:Baseboard:Convective:Water' and named 'Zone HVAC Baseboard Convective Water 15'\n",
                        "Removing:Object of type 'OS:ZoneHVAC:Baseboard:Convective:Water' and named 'Zone HVAC Baseboard Convective Water 155'\n",
                        "Removing:Object of type 'OS:ZoneHVAC:Baseboard:Convective:Water' and named 'Zone HVAC Baseboard Convective Water 85'\n",
                        "Removing:Object of type 'OS:ZoneHVAC:Baseboard:Convective:Water' and named 'Zone HVAC Baseboard Convective Water 152'\n",
                        "Removing:Object of type 'OS:ZoneHVAC:Baseboard:Convective:Water' and named 'Zone HVAC Baseboard Convective Water 154'\n",
                        "Removing:Object of type 'OS:ZoneHVAC:Baseboard:Convective:Water' and named 'Zone HVAC Baseboard Convective Water 153'\n",
                        "Removing:Object of type 'OS:ZoneHVAC:Baseboard:Convective:Water' and named 'Zone HVAC Baseboard Convective Water 26'\n",
                        "Removing:Object of type 'OS:ZoneHVAC:Baseboard:Convective:Water' and named 'Zone HVAC Baseboard Convective Water 14'\n",
                        "Removing:Object of type 'OS:ZoneHVAC:Baseboard:Convective:Water' and named 'Zone HVAC Baseboard Convective Water 142'\n",
                        "Removing:Object of type 'OS:ZoneHVAC:Baseboard:Convective:Water' and named 'Zone HVAC Baseboard Convective Water 138'\n",
                        "Removing:Object of type 'OS:ZoneHVAC:Baseboard:Convective:Water' and named 'Zone HVAC Baseboard Convective Water 135'\n",
                        "Removing:Object of type 'OS:ZoneHVAC:Baseboard:Convective:Water' and named 'Zone HVAC Baseboard Convective Water 92'\n",
                        "Removing:Object of type 'OS:ZoneHVAC:Baseboard:Convective:Water' and named 'Zone HVAC Baseboard Convective Water 94'\n",
                        "Removing:Object of type 'OS:ZoneHVAC:Baseboard:Convective:Water' and named 'Zone HVAC Baseboard Convective Water 86'\n",
                        "Removing:Object of type 'OS:ZoneHVAC:Baseboard:Convective:Water' and named 'Zone HVAC Baseboard Convective Water 70'\n",
                        "Removing:Object of type 'OS:ZoneHVAC:Baseboard:Convective:Water' and named 'Zone HVAC Baseboard Convective Water 87'\n"
                    ]
                }
            ],
            "metadata": {}
        },
        {
            "cell_type": "code",
            "execution_count": null,
            "source": [
                "print_remaining = False\r\n",
                "\r\n",
                "if print_remaining:\r\n",
                "    for z in zones: \r\n",
                "        if z.initialized():\r\n",
                "            z_equipment = z.equipment()\r\n",
                "            for z_e in z_equipment:\r\n",
                "                print(z_e.briefDescription())"
            ],
            "outputs": [],
            "metadata": {}
        },
        {
            "cell_type": "code",
            "execution_count": 83,
            "source": [
                "openstudio.model.Model.save(m, \"As-Built-scripted.osm\", True)"
            ],
            "outputs": [
                {
                    "output_type": "execute_result",
                    "data": {
                        "text/plain": [
                            "True"
                        ]
                    },
                    "metadata": {},
                    "execution_count": 83
                }
            ],
            "metadata": {}
        }
    ],
    "metadata": {
        "orig_nbformat": 4,
        "language_info": {
            "name": "python",
            "version": "3.9.12",
            "mimetype": "text/x-python",
            "codemirror_mode": {
                "name": "ipython",
                "version": 3
            },
            "pygments_lexer": "ipython3",
            "nbconvert_exporter": "python",
            "file_extension": ".py"
        },
        "kernelspec": {
            "name": "python3",
            "display_name": "Python 3.9.12 64-bit"
        },
        "interpreter": {
            "hash": "ad5864f56b9468bc1f0b6fefcee62edaf7f96ab9f6e9ae38690d443c98662615"
        }
    },
    "nbformat": 4,
    "nbformat_minor": 2
}