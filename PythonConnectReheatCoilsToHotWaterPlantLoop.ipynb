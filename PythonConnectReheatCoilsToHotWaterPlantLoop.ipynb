{
    "cells": [
        {
            "cell_type": "code",
            "execution_count": 10,
            "source": [
                "%matplotlib notebook"
            ],
            "outputs": [],
            "metadata": {}
        },
        {
            "cell_type": "code",
            "execution_count": 11,
            "source": [
                "import os\r\n",
                "import shutil\r\n",
                "import sys\r\n",
                "import datetime\r\n",
                "\r\n",
                "import matplotlib as mpl\r\n",
                "import matplotlib.pyplot as plt\r\n",
                "import numpy as np\r\n",
                "import pandas as pd"
            ],
            "outputs": [],
            "metadata": {}
        },
        {
            "cell_type": "markdown",
            "source": [
                "# Use OpenStudio to create a Model"
            ],
            "metadata": {}
        },
        {
            "cell_type": "code",
            "execution_count": 12,
            "source": [
                "import openstudio"
            ],
            "outputs": [],
            "metadata": {}
        },
        {
            "cell_type": "code",
            "execution_count": 13,
            "source": [
                "# For reproducibility, here are the versions I used to create and run this notebook\r\n",
                "_s = !pip list\r\n",
                "print(f\"Pip package used initially: {[x for x in _s if 'openstudio' in x][0]}\")\r\n",
                "print(f\"OpenStudio Long Version:    {openstudio.openStudioLongVersion()}\")"
            ],
            "outputs": [
                {
                    "output_type": "stream",
                    "name": "stdout",
                    "text": [
                        "Pip package used initially: openstudio                        3.3.0\n",
                        "OpenStudio Long Version:    3.3.0+b79cf6780c\n"
                    ]
                }
            ],
            "metadata": {}
        },
        {
            "cell_type": "markdown",
            "source": [
                "## Loading the model"
            ],
            "metadata": {}
        },
        {
            "cell_type": "code",
            "execution_count": 14,
            "source": [
                "osmpath = openstudio.toPath('As-Built-input.osm')\r\n",
                "\r\n",
                "m = openstudio.model.Model.load(osmpath).get()\r\n",
                "# print(m)"
            ],
            "outputs": [],
            "metadata": {}
        },
        {
            "cell_type": "markdown",
            "source": [
                "## Find the Hot Water Plant Loop"
            ],
            "metadata": {}
        },
        {
            "cell_type": "code",
            "execution_count": 15,
            "source": [
                "plantLoop = m.getPlantLoops() # Get all plant loops\r\n",
                "for loop in plantLoop: # Iterate through plant loops\r\n",
                "    if 'Hot Water Loop' in loop.name().get(): # Find plant loop with Hot Water Loop in the name\r\n",
                "        print(loop) # Print the loop\r\n",
                "        hwLoop = loop # Save the loop as a variable, this will not work if you have multiple loops with the name Hot Water Loop"
            ],
            "outputs": [
                {
                    "output_type": "stream",
                    "name": "stdout",
                    "text": [
                        "OS:PlantLoop,\n",
                        "  {cdc8bbdb-db5a-4a1c-a7ec-4fec1f98c377}, !- Handle\n",
                        "  Hot Water Loop,                         !- Name\n",
                        "  Water,                                  !- Fluid Type\n",
                        "  0,                                      !- Glycol Concentration\n",
                        "  ,                                       !- User Defined Fluid Type\n",
                        "  ,                                       !- Plant Equipment Operation Heating Load\n",
                        "  ,                                       !- Plant Equipment Operation Cooling Load\n",
                        "  ,                                       !- Primary Plant Equipment Operation Scheme\n",
                        "  {b99e7591-a8dd-4ad2-af2b-800bacd73127}, !- Loop Temperature Setpoint Node Name\n",
                        "  ,                                       !- Maximum Loop Temperature {C}\n",
                        "  ,                                       !- Minimum Loop Temperature {C}\n",
                        "  ,                                       !- Maximum Loop Flow Rate {m3/s}\n",
                        "  ,                                       !- Minimum Loop Flow Rate {m3/s}\n",
                        "  Autocalculate,                          !- Plant Loop Volume {m3}\n",
                        "  {650b1921-95f0-4faa-b73a-fddca0bdaa99}, !- Plant Side Inlet Node Name\n",
                        "  {457a03d7-1b3e-4c62-8848-b8916804f69e}, !- Plant Side Outlet Node Name\n",
                        "  ,                                       !- Plant Side Branch List Name\n",
                        "  {d17a75f4-0925-48fd-8ef6-1deccf958d12}, !- Demand Side Inlet Node Name\n",
                        "  {322a68af-2ca1-4f90-b389-44246a9f26f2}, !- Demand Side Outlet Node Name\n",
                        "  ,                                       !- Demand Side Branch List Name\n",
                        "  ,                                       !- Demand Side Connector List Name\n",
                        "  Optimal,                                !- Load Distribution Scheme\n",
                        "  {eeac94b1-fae0-417a-bad7-dda2f37fe088}, !- Availability Manager List Name\n",
                        "  ,                                       !- Plant Loop Demand Calculation Scheme\n",
                        "  ,                                       !- Common Pipe Simulation\n",
                        "  ,                                       !- Pressure Simulation Type\n",
                        "  ,                                       !- Plant Equipment Operation Heating Load Schedule\n",
                        "  ,                                       !- Plant Equipment Operation Cooling Load Schedule\n",
                        "  ,                                       !- Primary Plant Equipment Operation Scheme Schedule\n",
                        "  ,                                       !- Component Setpoint Operation Scheme Schedule\n",
                        "  {8c549062-ca8a-42ae-abd3-db891549fcbb}, !- Demand Mixer Name\n",
                        "  {6c54b42b-fe24-45a5-9fed-84a032baa8b2}, !- Demand Splitter Name\n",
                        "  {4939fa21-abcd-407b-ab09-f0b13a109488}, !- Supply Mixer Name\n",
                        "  {ef9323dd-b839-4266-9085-87c911c293ce}; !- Supply Splitter Name\n",
                        "\n",
                        "\n"
                    ]
                }
            ],
            "metadata": {}
        },
        {
            "cell_type": "markdown",
            "source": [
                "## Filter Reheat Coils and Connect to Hot Water Loop"
            ],
            "metadata": {}
        },
        {
            "cell_type": "markdown",
            "source": [
                "Find all the coils with no Water Inlet Node Name and connect to the plant loop called Hot Water Loop"
            ],
            "metadata": {}
        },
        {
            "cell_type": "code",
            "execution_count": 18,
            "source": [
                "reheat = m.getCoilHeatingWaters() #Get all Coil:Heating:Water objects\r\n",
                "for coil in reheat: # Iterate through each coil\r\n",
                "    # print(coil)\r\n",
                "    if len(coil.getString(5).get()) < 1: # Check if Water Inlet Node Name at index 5 is empty\r\n",
                "        hwLoop.addDemandBranchForComponent(coil) # Add the coils with empty water inlet node names to the Hot Water Loop\r\n",
                "        print(coil.nameString() + ' added to ' + hwLoop.nameString()) # Print the coils added "
            ],
            "outputs": [
                {
                    "output_type": "stream",
                    "name": "stdout",
                    "text": [
                        "Coil Heating Water 75 added to Hot Water Loop\n",
                        "Coil Heating Water 121 added to Hot Water Loop\n",
                        "Coil Heating Water 96 added to Hot Water Loop\n",
                        "Coil Heating Water 44 added to Hot Water Loop\n",
                        "Coil Heating Water 43 added to Hot Water Loop\n",
                        "Coil Heating Water 62 added to Hot Water Loop\n",
                        "Coil Heating Water 41 added to Hot Water Loop\n",
                        "Coil Heating Water 33 added to Hot Water Loop\n",
                        "Coil Heating Water 26 added to Hot Water Loop\n",
                        "Coil Heating Water 18 added to Hot Water Loop\n",
                        "Coil Heating Water 168 added to Hot Water Loop\n",
                        "Coil Heating Water 95 added to Hot Water Loop\n",
                        "Coil Heating Water 82 added to Hot Water Loop\n",
                        "Coil Heating Water 19 added to Hot Water Loop\n",
                        "Coil Heating Water 20 added to Hot Water Loop\n",
                        "Coil Heating Water 21 added to Hot Water Loop\n",
                        "Coil Heating Water 22 added to Hot Water Loop\n",
                        "Coil Heating Water 23 added to Hot Water Loop\n",
                        "Coil Heating Water 104 added to Hot Water Loop\n",
                        "Coil Heating Water 24 added to Hot Water Loop\n",
                        "Coil Heating Water 25 added to Hot Water Loop\n",
                        "Coil Heating Water 30 added to Hot Water Loop\n",
                        "Coil Heating Water 102 added to Hot Water Loop\n",
                        "Coil Heating Water 27 added to Hot Water Loop\n",
                        "Coil Heating Water 37 added to Hot Water Loop\n",
                        "Coil Heating Water 28 added to Hot Water Loop\n",
                        "Coil Heating Water 34 added to Hot Water Loop\n",
                        "Coil Heating Water 38 added to Hot Water Loop\n",
                        "Coil Heating Water 135 added to Hot Water Loop\n",
                        "Coil Heating Water 39 added to Hot Water Loop\n",
                        "Coil Heating Water 40 added to Hot Water Loop\n",
                        "Coil Heating Water 42 added to Hot Water Loop\n",
                        "Coil Heating Water 130 added to Hot Water Loop\n",
                        "Coil Heating Water 167 added to Hot Water Loop\n",
                        "Coil Heating Water 70 added to Hot Water Loop\n",
                        "Coil Heating Water 77 added to Hot Water Loop\n",
                        "Coil Heating Water 164 added to Hot Water Loop\n",
                        "Coil Heating Water 65 added to Hot Water Loop\n",
                        "Coil Heating Water 76 added to Hot Water Loop\n",
                        "Coil Heating Water 63 added to Hot Water Loop\n",
                        "Coil Heating Water 66 added to Hot Water Loop\n",
                        "Coil Heating Water 73 added to Hot Water Loop\n",
                        "Coil Heating Water 67 added to Hot Water Loop\n",
                        "Coil Heating Water 68 added to Hot Water Loop\n",
                        "Coil Heating Water 110 added to Hot Water Loop\n",
                        "Coil Heating Water 69 added to Hot Water Loop\n",
                        "Coil Heating Water 71 added to Hot Water Loop\n",
                        "Coil Heating Water 72 added to Hot Water Loop\n",
                        "Coil Heating Water 74 added to Hot Water Loop\n",
                        "Coil Heating Water 78 added to Hot Water Loop\n",
                        "Coil Heating Water 79 added to Hot Water Loop\n",
                        "Coil Heating Water 80 added to Hot Water Loop\n",
                        "Coil Heating Water 81 added to Hot Water Loop\n",
                        "Coil Heating Water 83 added to Hot Water Loop\n",
                        "Coil Heating Water 107 added to Hot Water Loop\n",
                        "Coil Heating Water 84 added to Hot Water Loop\n",
                        "Coil Heating Water 85 added to Hot Water Loop\n",
                        "Coil Heating Water 87 added to Hot Water Loop\n",
                        "Coil Heating Water 119 added to Hot Water Loop\n",
                        "Coil Heating Water 88 added to Hot Water Loop\n",
                        "Coil Heating Water 89 added to Hot Water Loop\n",
                        "Coil Heating Water 90 added to Hot Water Loop\n",
                        "Coil Heating Water 184 added to Hot Water Loop\n",
                        "Coil Heating Water 91 added to Hot Water Loop\n",
                        "Coil Heating Water 92 added to Hot Water Loop\n",
                        "Coil Heating Water 94 added to Hot Water Loop\n",
                        "Coil Heating Water 97 added to Hot Water Loop\n",
                        "Coil Heating Water 98 added to Hot Water Loop\n",
                        "Coil Heating Water 99 added to Hot Water Loop\n",
                        "Coil Heating Water 166 added to Hot Water Loop\n",
                        "Coil Heating Water 100 added to Hot Water Loop\n",
                        "Coil Heating Water 128 added to Hot Water Loop\n",
                        "Coil Heating Water 101 added to Hot Water Loop\n",
                        "Coil Heating Water 103 added to Hot Water Loop\n",
                        "Coil Heating Water 105 added to Hot Water Loop\n",
                        "Coil Heating Water 176 added to Hot Water Loop\n",
                        "Coil Heating Water 106 added to Hot Water Loop\n",
                        "Coil Heating Water 108 added to Hot Water Loop\n",
                        "Coil Heating Water 109 added to Hot Water Loop\n",
                        "Coil Heating Water 111 added to Hot Water Loop\n",
                        "Coil Heating Water 112 added to Hot Water Loop\n",
                        "Coil Heating Water 113 added to Hot Water Loop\n",
                        "Coil Heating Water 114 added to Hot Water Loop\n",
                        "Coil Heating Water 115 added to Hot Water Loop\n",
                        "Coil Heating Water 116 added to Hot Water Loop\n",
                        "Coil Heating Water 117 added to Hot Water Loop\n",
                        "Coil Heating Water 118 added to Hot Water Loop\n",
                        "Coil Heating Water 169 added to Hot Water Loop\n",
                        "Coil Heating Water 120 added to Hot Water Loop\n",
                        "Coil Heating Water 122 added to Hot Water Loop\n",
                        "Coil Heating Water 123 added to Hot Water Loop\n",
                        "Coil Heating Water 124 added to Hot Water Loop\n",
                        "Coil Heating Water 125 added to Hot Water Loop\n",
                        "Coil Heating Water 126 added to Hot Water Loop\n",
                        "Coil Heating Water 127 added to Hot Water Loop\n",
                        "Coil Heating Water 129 added to Hot Water Loop\n",
                        "Coil Heating Water 131 added to Hot Water Loop\n",
                        "Coil Heating Water 132 added to Hot Water Loop\n",
                        "Coil Heating Water 133 added to Hot Water Loop\n",
                        "Coil Heating Water 134 added to Hot Water Loop\n",
                        "Coil Heating Water 136 added to Hot Water Loop\n",
                        "Coil Heating Water 137 added to Hot Water Loop\n",
                        "Coil Heating Water 139 added to Hot Water Loop\n",
                        "Coil Heating Water 177 added to Hot Water Loop\n",
                        "Coil Heating Water 140 added to Hot Water Loop\n",
                        "Coil Heating Water 141 added to Hot Water Loop\n",
                        "Coil Heating Water 142 added to Hot Water Loop\n",
                        "Coil Heating Water 143 added to Hot Water Loop\n",
                        "Coil Heating Water 144 added to Hot Water Loop\n",
                        "Coil Heating Water 145 added to Hot Water Loop\n",
                        "Coil Heating Water 146 added to Hot Water Loop\n",
                        "Coil Heating Water 147 added to Hot Water Loop\n",
                        "Coil Heating Water 148 added to Hot Water Loop\n",
                        "Coil Heating Water 149 added to Hot Water Loop\n",
                        "Coil Heating Water 156 added to Hot Water Loop\n",
                        "Coil Heating Water 157 added to Hot Water Loop\n",
                        "Coil Heating Water 158 added to Hot Water Loop\n",
                        "Coil Heating Water 159 added to Hot Water Loop\n",
                        "Coil Heating Water 160 added to Hot Water Loop\n",
                        "Coil Heating Water 161 added to Hot Water Loop\n",
                        "Coil Heating Water 162 added to Hot Water Loop\n",
                        "Coil Heating Water 163 added to Hot Water Loop\n",
                        "Coil Heating Water 165 added to Hot Water Loop\n",
                        "Coil Heating Water 170 added to Hot Water Loop\n",
                        "Coil Heating Water 171 added to Hot Water Loop\n",
                        "Coil Heating Water 172 added to Hot Water Loop\n",
                        "Coil Heating Water 173 added to Hot Water Loop\n",
                        "Coil Heating Water 174 added to Hot Water Loop\n",
                        "Coil Heating Water 175 added to Hot Water Loop\n",
                        "Coil Heating Water 178 added to Hot Water Loop\n",
                        "Coil Heating Water 179 added to Hot Water Loop\n",
                        "Coil Heating Water 182 added to Hot Water Loop\n",
                        "Coil Heating Water 183 added to Hot Water Loop\n"
                    ]
                }
            ],
            "metadata": {}
        },
        {
            "cell_type": "markdown",
            "source": [
                "# Save the model"
            ],
            "metadata": {}
        },
        {
            "cell_type": "code",
            "execution_count": null,
            "source": [
                "openstudio.model.Model.save(m, \"As-Built.osm\", True)"
            ],
            "outputs": [
                {
                    "output_type": "execute_result",
                    "data": {
                        "text/plain": [
                            "True"
                        ]
                    },
                    "metadata": {},
                    "execution_count": 8
                }
            ],
            "metadata": {}
        }
    ],
    "metadata": {
        "orig_nbformat": 4,
        "language_info": {
            "name": "python",
            "version": "3.9.12",
            "mimetype": "text/x-python",
            "codemirror_mode": {
                "name": "ipython",
                "version": 3
            },
            "pygments_lexer": "ipython3",
            "nbconvert_exporter": "python",
            "file_extension": ".py"
        },
        "kernelspec": {
            "name": "python3",
            "display_name": "Python 3.9.12 64-bit"
        },
        "interpreter": {
            "hash": "ad5864f56b9468bc1f0b6fefcee62edaf7f96ab9f6e9ae38690d443c98662615"
        }
    },
    "nbformat": 4,
    "nbformat_minor": 2
}